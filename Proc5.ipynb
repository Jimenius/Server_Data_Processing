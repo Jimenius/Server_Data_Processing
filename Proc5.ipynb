{
 "cells": [
  {
   "cell_type": "code",
   "execution_count": 1,
   "metadata": {},
   "outputs": [],
   "source": [
    "from pyspark.sql import SparkSession\n",
    "import re\n",
    "import random\n",
    "import matplotlib.pyplot as plt\n",
    "spark = SparkSession.builder.getOrCreate()\n",
    "sc = spark.sparkContext"
   ]
  },
  {
   "cell_type": "code",
   "execution_count": 2,
   "metadata": {},
   "outputs": [],
   "source": [
    "rdd = sc.textFile('epa-http.txt')"
   ]
  },
  {
   "cell_type": "code",
   "execution_count": 3,
   "metadata": {},
   "outputs": [],
   "source": [
    "url_pat = re.compile('(([0-9]|[1-9][0-9]|1[0-9]{2}|2[0-4][0-9]|25[0-5])\\.){3}([0-9]|[1-9][0-9]|1[0-9]{2}|2[0-4][0-9]|25[0-5]).*')\n",
    "rdd = rdd.filter(lambda x: url_pat.match(x) and x[-1] != '-').map(lambda x: x.split(' '))\n",
    "l = rdd.count()"
   ]
  },
  {
   "cell_type": "code",
   "execution_count": 4,
   "metadata": {},
   "outputs": [],
   "source": [
    "def time_period(x):\n",
    "    time = x[1][1: -1]\n",
    "    time_list = time.split(':')\n",
    "    sec = ((int(time_list[0]) - 29) * 86400 + int(time_list[1]) * 3600 + \\\n",
    "           int(time_list[2]) * 60 + int(time_list[3]) - (23 * 3600 + 53 * 60 + 25))\n",
    "    return sec"
   ]
  },
  {
   "cell_type": "code",
   "execution_count": 5,
   "metadata": {},
   "outputs": [],
   "source": [
    "data = rdd.map(time_period).collect()"
   ]
  },
  {
   "cell_type": "code",
   "execution_count": 6,
   "metadata": {},
   "outputs": [],
   "source": [
    "def A(x, sa):\n",
    "    return random.random() < sa"
   ]
  },
  {
   "cell_type": "code",
   "execution_count": 7,
   "metadata": {},
   "outputs": [],
   "source": [
    "def B(x, sb):\n",
    "    time_base = 24 * 3600 * sb\n",
    "    return x < time_base"
   ]
  },
  {
   "cell_type": "code",
   "execution_count": 8,
   "metadata": {},
   "outputs": [],
   "source": [
    "sa = 0.5\n",
    "l = len(data)\n",
    "Tp1_record = []\n",
    "Tp2_record = []\n",
    "for i in range(101):\n",
    "    sb = i / 100.0\n",
    "    \n",
    "    ca = 0\n",
    "    cb = 0    \n",
    "    #Execution Order A->B\n",
    "    for j in range(l):\n",
    "        ca += 1\n",
    "        if A(data[j], sa):\n",
    "            cb += 1\n",
    "            B(data[j], sb)\n",
    "    tp1 = l * 3.0 / (ca + cb) / 2\n",
    "    Tp1_record.append(tp1)\n",
    "    \n",
    "    ca = 0\n",
    "    cb = 0\n",
    "    #Operator Reordering B->A\n",
    "    cb += 1\n",
    "    for j in range(l):\n",
    "        cb += 1\n",
    "        if B(data[j], sb):\n",
    "            ca += 1\n",
    "            A(data[j], sa)\n",
    "    tp2 = l * 3.0 / (ca + cb) / 2\n",
    "    Tp2_record.append(tp2)"
   ]
  },
  {
   "cell_type": "code",
   "execution_count": 9,
   "metadata": {},
   "outputs": [],
   "source": [
    "plt.figure(figsize = [6, 6])\n",
    "axis = [x / 100.0 for x in range(101)]\n",
    "plt.plot(axis, Tp1_record, '-', axis, Tp2_record, '--')\n",
    "plt.title('Selection Reordering')\n",
    "plt.xlabel('Selectivity of B')\n",
    "plt.ylabel('Throughput')\n",
    "plt.legend(['Not reordered', 'Reordered'])\n",
    "plt.show()"
   ]
  },
  {
   "cell_type": "code",
   "execution_count": null,
   "metadata": {},
   "outputs": [],
   "source": []
  }
 ],
 "metadata": {
  "kernelspec": {
   "display_name": "Python 2",
   "language": "python",
   "name": "python2"
  },
  "language_info": {
   "codemirror_mode": {
    "name": "ipython",
    "version": 2
   },
   "file_extension": ".py",
   "mimetype": "text/x-python",
   "name": "python",
   "nbconvert_exporter": "python",
   "pygments_lexer": "ipython2",
   "version": "2.7.14"
  }
 },
 "nbformat": 4,
 "nbformat_minor": 2
}
